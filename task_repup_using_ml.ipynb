{
 "cells": [
  {
   "cell_type": "markdown",
   "metadata": {},
   "source": [
    "# SENTIMENT ANALYSIS OF HOTEL REVIEWS"
   ]
  },
  {
   "cell_type": "code",
   "execution_count": 1,
   "metadata": {},
   "outputs": [
    {
     "name": "stderr",
     "output_type": "stream",
     "text": [
      "Using TensorFlow backend.\n"
     ]
    }
   ],
   "source": [
    "import numpy as np\n",
    "import pandas as pd\n",
    "from sklearn import metrics\n",
    "from sklearn.model_selection import train_test_split\n",
    "from sklearn.feature_extraction.text import CountVectorizer\n",
    "from sklearn.feature_extraction.text import TfidfVectorizer\n",
    "from sklearn.svm import LinearSVC\n",
    "from sklearn.naive_bayes import MultinomialNB\n",
    "from sklearn.linear_model import LogisticRegression\n",
    "from sklearn.neighbors import KNeighborsClassifier\n",
    "from keras.preprocessing.sequence import pad_sequences\n",
    "import warnings\n",
    "warnings.filterwarnings('ignore')"
   ]
  },
  {
   "cell_type": "code",
   "execution_count": 2,
   "metadata": {},
   "outputs": [
    {
     "name": "stdout",
     "output_type": "stream",
     "text": [
      "                       REVIEW  Label\n",
      "0                   Nice view      1\n",
      "1           Excellent Service      1\n",
      "2                  Beautiful       1\n",
      "3  About food and hospitality      1\n",
      "4                Good service      1\n"
     ]
    }
   ],
   "source": [
    "\n",
    "from numpy.random import seed\n",
    "seed(1)\n",
    "from tensorflow import set_random_seed\n",
    "set_random_seed(2)\n",
    "from numpy.random import seed\n",
    "seed(1)\n",
    "from tensorflow import set_random_seed\n",
    "set_random_seed(2)\n",
    "colnames=['REVIEW','Label'] \n",
    "df= pd.read_csv('dataset.csv', names=colnames, header=None)\n",
    "print(df.head())\n",
    "X=df['REVIEW']\n",
    "y=df['Label']\n",
    "X.isnull()\n",
    "df['Label'] = df['Label'].apply(np.int64)"
   ]
  },
  {
   "cell_type": "code",
   "execution_count": 3,
   "metadata": {},
   "outputs": [],
   "source": [
    "from sklearn.model_selection import train_test_split"
   ]
  },
  {
   "cell_type": "code",
   "execution_count": 4,
   "metadata": {},
   "outputs": [],
   "source": [
    "X_train,X_test,y_train,y_test=train_test_split(X,y,test_size=0.3,random_state=42)"
   ]
  },
  {
   "cell_type": "markdown",
   "metadata": {},
   "source": [
    "# TF IDF VECTORIZER"
   ]
  },
  {
   "cell_type": "code",
   "execution_count": 5,
   "metadata": {},
   "outputs": [],
   "source": [
    "vect = TfidfVectorizer()\n",
    "#vect = CountVectorizer(stop_words='english', ngram_range = (1,1), max_df = .80, min_df = 4)\n",
    "X_train, X_test, y_train, y_test = train_test_split(X,y,random_state=1, test_size= 0.2)\n",
    "#Using training data to transform text into counts of features for each message\n",
    "vect.fit(X_train)\n",
    "X_train_dtm = vect.transform(X_train) \n",
    "X_test_dtm = vect.transform(X_test)"
   ]
  },
  {
   "cell_type": "markdown",
   "metadata": {},
   "source": [
    "# K NEIGHBORS CLASSIFIER"
   ]
  },
  {
   "cell_type": "code",
   "execution_count": 6,
   "metadata": {},
   "outputs": [],
   "source": [
    "from sklearn.neighbors import KNeighborsClassifier\n",
    "from sklearn import metrics\n",
    "krange=range(1,26)\n",
    "scores={}\n",
    "scorelist=[]\n",
    "for k in krange:\n",
    "    knn=KNeighborsClassifier(n_neighbors=k)\n",
    "    knn.fit(X_train_dtm,y_train)\n",
    "    y_pred=knn.predict(X_test_dtm)\n",
    "    scores[k]=metrics.accuracy_score(y_test,y_pred)\n",
    "    scorelist.append(metrics.accuracy_score(y_test,y_pred))"
   ]
  },
  {
   "cell_type": "code",
   "execution_count": 7,
   "metadata": {},
   "outputs": [
    {
     "name": "stdout",
     "output_type": "stream",
     "text": [
      "[0.782608695652174, 0.6521739130434783, 0.6956521739130435, 0.6521739130434783, 0.782608695652174, 0.782608695652174, 0.782608695652174, 0.8260869565217391, 0.8260869565217391, 0.782608695652174, 0.7391304347826086, 0.7391304347826086, 0.6956521739130435, 0.5217391304347826, 0.6086956521739131, 0.6521739130434783, 0.6956521739130435, 0.6521739130434783, 0.6956521739130435, 0.6521739130434783, 0.6086956521739131, 0.6086956521739131, 0.4782608695652174, 0.5217391304347826, 0.43478260869565216]\n"
     ]
    }
   ],
   "source": [
    "print(scorelist)"
   ]
  },
  {
   "cell_type": "markdown",
   "metadata": {},
   "source": [
    "# HIGHEST ACCURACY  OF KNN AT K=8"
   ]
  },
  {
   "cell_type": "code",
   "execution_count": 8,
   "metadata": {},
   "outputs": [
    {
     "name": "stdout",
     "output_type": "stream",
     "text": [
      "\n",
      "K Nearest Neighbors (NN = 8)\n",
      "Accuracy Score: 82.6086956521739%\n",
      "Confusion Matrix: \n",
      "[[10  4]\n",
      " [ 0  9]]\n"
     ]
    }
   ],
   "source": [
    "KNN = KNeighborsClassifier(n_neighbors = 8)\n",
    "KNN.fit(X_train_dtm, y_train)\n",
    "y_pred = KNN.predict(X_test_dtm)\n",
    "print('\\nK Nearest Neighbors (NN = 8)')\n",
    "print('Accuracy Score: ',metrics.accuracy_score(y_test,y_pred)*100,'%',sep='')\n",
    "print('Confusion Matrix: ',metrics.confusion_matrix(y_test,y_pred), sep = '\\n')"
   ]
  },
  {
   "cell_type": "markdown",
   "metadata": {},
   "source": [
    "# MULTINOMIAL NB"
   ]
  },
  {
   "cell_type": "code",
   "execution_count": 9,
   "metadata": {},
   "outputs": [
    {
     "name": "stdout",
     "output_type": "stream",
     "text": [
      "\n",
      "Naive Bayes\n",
      "Accuracy Score: 69.56521739130434%\n",
      "Confusion Matrix: \n",
      "[[7 7]\n",
      " [0 9]]\n"
     ]
    }
   ],
   "source": [
    "NB = MultinomialNB()\n",
    "NB.fit(X_train_dtm, y_train)\n",
    "y_pred = NB.predict(X_test_dtm)\n",
    "print('\\nNaive Bayes')\n",
    "print('Accuracy Score: ',metrics.accuracy_score(y_test,y_pred)*100,'%',sep='')\n",
    "print('Confusion Matrix: ',metrics.confusion_matrix(y_test,y_pred), sep = '\\n')"
   ]
  },
  {
   "cell_type": "markdown",
   "metadata": {},
   "source": [
    "# LOGISTIC REGRESSION"
   ]
  },
  {
   "cell_type": "code",
   "execution_count": 10,
   "metadata": {},
   "outputs": [
    {
     "name": "stdout",
     "output_type": "stream",
     "text": [
      "\n",
      "Logistic Regression\n",
      "Accuracy Score: 60.86956521739131%\n",
      "Confusion Matrix: \n",
      "[[5 9]\n",
      " [0 9]]\n"
     ]
    }
   ],
   "source": [
    "LR = LogisticRegression()\n",
    "LR.fit(X_train_dtm, y_train)\n",
    "y_pred = LR.predict(X_test_dtm)\n",
    "print('\\nLogistic Regression')\n",
    "print('Accuracy Score: ',metrics.accuracy_score(y_test,y_pred)*100,'%',sep='')\n",
    "print('Confusion Matrix: ',metrics.confusion_matrix(y_test,y_pred), sep = '\\n')"
   ]
  },
  {
   "cell_type": "markdown",
   "metadata": {},
   "source": [
    "# SVM"
   ]
  },
  {
   "cell_type": "code",
   "execution_count": 11,
   "metadata": {},
   "outputs": [
    {
     "name": "stdout",
     "output_type": "stream",
     "text": [
      "\n",
      "Support Vector Machine\n",
      "Accuracy Score: 82.6086956521739%\n",
      "Confusion Matrix: \n",
      "[[10  4]\n",
      " [ 0  9]]\n"
     ]
    }
   ],
   "source": [
    "SVM = LinearSVC()\n",
    "SVM.fit(X_train_dtm, y_train)\n",
    "y_pred = SVM.predict(X_test_dtm)\n",
    "print('\\nSupport Vector Machine')\n",
    "print('Accuracy Score: ',metrics.accuracy_score(y_test,y_pred)*100,'%',sep='')\n",
    "print('Confusion Matrix: ',metrics.confusion_matrix(y_test,y_pred), sep = '\\n')"
   ]
  },
  {
   "cell_type": "markdown",
   "metadata": {},
   "source": [
    "# Using Keras and Deep Learning"
   ]
  },
  {
   "cell_type": "code",
   "execution_count": 12,
   "metadata": {},
   "outputs": [],
   "source": [
    "import keras\n",
    "from keras.models import Sequential\n",
    "from keras.layers import Dense, LSTM\n",
    "from keras.layers.embeddings import Embedding\n",
    "from keras.preprocessing import sequence\n",
    "from tensorflow.python.keras.preprocessing.text import Tokenizer\n",
    "import collections"
   ]
  },
  {
   "cell_type": "code",
   "execution_count": 13,
   "metadata": {},
   "outputs": [],
   "source": [
    "X1 = np.array(X)\n",
    "Y1 = np.array(y)\n",
    "\n",
    "max_fatures = 2000\n",
    "tokenizer = Tokenizer(num_words=max_fatures, split=' ')\n",
    "tokenizer.fit_on_texts(df['REVIEW'].values)\n",
    "X1 = tokenizer.texts_to_sequences(df['REVIEW'].values)\n",
    "X1 = pad_sequences(X1)"
   ]
  },
  {
   "cell_type": "code",
   "execution_count": 14,
   "metadata": {},
   "outputs": [
    {
     "name": "stdout",
     "output_type": "stream",
     "text": [
      "WARNING:tensorflow:From /usr/local/lib/python3.6/dist-packages/tensorflow/python/framework/op_def_library.py:263: colocate_with (from tensorflow.python.framework.ops) is deprecated and will be removed in a future version.\n",
      "Instructions for updating:\n",
      "Colocations handled automatically by placer.\n",
      "Model created.\n"
     ]
    }
   ],
   "source": [
    "\n",
    "max_words = 5000\n",
    "\n",
    "\n",
    "embedding_vector_length = 32\n",
    "\n",
    "# Define the layers in the model\n",
    "model = Sequential()\n",
    "model.add(Embedding(max_words, embedding_vector_length))\n",
    "model.add(LSTM(200))\n",
    "\n",
    "model.add(Dense(1, activation='sigmoid'))\n",
    "\n",
    "print(\"Model created.\")"
   ]
  },
  {
   "cell_type": "code",
   "execution_count": 15,
   "metadata": {},
   "outputs": [
    {
     "name": "stdout",
     "output_type": "stream",
     "text": [
      "Model compiled, ready to be fit to the training data.\n"
     ]
    }
   ],
   "source": [
    "model.compile(loss='binary_crossentropy', optimizer='adam', metrics=['accuracy'])\n",
    "\n",
    "print(\"Model compiled, ready to be fit to the training data.\")\n"
   ]
  },
  {
   "cell_type": "code",
   "execution_count": 16,
   "metadata": {},
   "outputs": [
    {
     "name": "stdout",
     "output_type": "stream",
     "text": [
      "_________________________________________________________________\n",
      "Layer (type)                 Output Shape              Param #   \n",
      "=================================================================\n",
      "embedding_1 (Embedding)      (None, None, 32)          160000    \n",
      "_________________________________________________________________\n",
      "lstm_1 (LSTM)                (None, 200)               186400    \n",
      "_________________________________________________________________\n",
      "dense_1 (Dense)              (None, 1)                 201       \n",
      "=================================================================\n",
      "Total params: 346,601\n",
      "Trainable params: 346,601\n",
      "Non-trainable params: 0\n",
      "_________________________________________________________________\n",
      "None\n"
     ]
    }
   ],
   "source": [
    "print(model.summary())"
   ]
  },
  {
   "cell_type": "code",
   "execution_count": 17,
   "metadata": {},
   "outputs": [],
   "source": [
    "X_train,X_test,y_train,y_test=train_test_split(X1,y,test_size=0.25,)"
   ]
  },
  {
   "cell_type": "code",
   "execution_count": 18,
   "metadata": {},
   "outputs": [
    {
     "name": "stdout",
     "output_type": "stream",
     "text": [
      "WARNING:tensorflow:From /usr/local/lib/python3.6/dist-packages/tensorflow/python/ops/math_ops.py:3066: to_int32 (from tensorflow.python.ops.math_ops) is deprecated and will be removed in a future version.\n",
      "Instructions for updating:\n",
      "Use tf.cast instead.\n",
      "Epoch 1/50\n",
      "86/86 [==============================] - 2s 26ms/step - loss: 0.6925 - acc: 0.6512\n",
      "Epoch 2/50\n",
      "86/86 [==============================] - 0s 1ms/step - loss: 0.6892 - acc: 0.5465\n",
      "Epoch 3/50\n",
      "86/86 [==============================] - 0s 2ms/step - loss: 0.6857 - acc: 0.5465\n",
      "Epoch 4/50\n",
      "86/86 [==============================] - 0s 2ms/step - loss: 0.6840 - acc: 0.5465\n",
      "Epoch 5/50\n",
      "86/86 [==============================] - 0s 1ms/step - loss: 0.6816 - acc: 0.5465\n",
      "Epoch 6/50\n",
      "86/86 [==============================] - 0s 2ms/step - loss: 0.6779 - acc: 0.5465\n",
      "Epoch 7/50\n",
      "86/86 [==============================] - 0s 2ms/step - loss: 0.6742 - acc: 0.5465\n",
      "Epoch 8/50\n",
      "86/86 [==============================] - 0s 2ms/step - loss: 0.6692 - acc: 0.5465\n",
      "Epoch 9/50\n",
      "86/86 [==============================] - 0s 2ms/step - loss: 0.6633 - acc: 0.5465\n",
      "Epoch 10/50\n",
      "86/86 [==============================] - 0s 2ms/step - loss: 0.6556 - acc: 0.5465\n",
      "Epoch 11/50\n",
      "86/86 [==============================] - 0s 2ms/step - loss: 0.6482 - acc: 0.5465\n",
      "Epoch 12/50\n",
      "86/86 [==============================] - 0s 1ms/step - loss: 0.6354 - acc: 0.5581\n",
      "Epoch 13/50\n",
      "86/86 [==============================] - 0s 2ms/step - loss: 0.6220 - acc: 0.6628\n",
      "Epoch 14/50\n",
      "86/86 [==============================] - 0s 2ms/step - loss: 0.6062 - acc: 0.7326\n",
      "Epoch 15/50\n",
      "86/86 [==============================] - 0s 2ms/step - loss: 0.5846 - acc: 0.8256\n",
      "Epoch 16/50\n",
      "86/86 [==============================] - 0s 2ms/step - loss: 0.5558 - acc: 0.8372\n",
      "Epoch 17/50\n",
      "86/86 [==============================] - 0s 2ms/step - loss: 0.5259 - acc: 0.7558\n",
      "Epoch 18/50\n",
      "86/86 [==============================] - 0s 2ms/step - loss: 0.4906 - acc: 0.7326\n",
      "Epoch 19/50\n",
      "86/86 [==============================] - 0s 2ms/step - loss: 0.4584 - acc: 0.9651\n",
      "Epoch 20/50\n",
      "86/86 [==============================] - 0s 2ms/step - loss: 0.4684 - acc: 0.9419\n",
      "Epoch 21/50\n",
      "86/86 [==============================] - 0s 2ms/step - loss: 0.4413 - acc: 0.9767\n",
      "Epoch 22/50\n",
      "86/86 [==============================] - 0s 1ms/step - loss: 0.4157 - acc: 0.9767\n",
      "Epoch 23/50\n",
      "86/86 [==============================] - 0s 2ms/step - loss: 0.3879 - acc: 0.9767\n",
      "Epoch 24/50\n",
      "86/86 [==============================] - 0s 1ms/step - loss: 0.3579 - acc: 0.9651\n",
      "Epoch 25/50\n",
      "86/86 [==============================] - 0s 2ms/step - loss: 0.3278 - acc: 0.9535\n",
      "Epoch 26/50\n",
      "86/86 [==============================] - 0s 2ms/step - loss: 0.2952 - acc: 0.9535\n",
      "Epoch 27/50\n",
      "86/86 [==============================] - 0s 1ms/step - loss: 0.2684 - acc: 0.9535\n",
      "Epoch 28/50\n",
      "86/86 [==============================] - 0s 2ms/step - loss: 0.2366 - acc: 0.9302\n",
      "Epoch 29/50\n",
      "86/86 [==============================] - 0s 1ms/step - loss: 0.2402 - acc: 0.9535\n",
      "Epoch 30/50\n",
      "86/86 [==============================] - 0s 2ms/step - loss: 0.2535 - acc: 0.8837\n",
      "Epoch 31/50\n",
      "86/86 [==============================] - 0s 2ms/step - loss: 0.2030 - acc: 0.9302\n",
      "Epoch 32/50\n",
      "86/86 [==============================] - 0s 2ms/step - loss: 0.1900 - acc: 0.9767\n",
      "Epoch 33/50\n",
      "86/86 [==============================] - 0s 1ms/step - loss: 0.1934 - acc: 0.9767\n",
      "Epoch 34/50\n",
      "86/86 [==============================] - 0s 2ms/step - loss: 0.1906 - acc: 0.9767\n",
      "Epoch 35/50\n",
      "86/86 [==============================] - 0s 2ms/step - loss: 0.1841 - acc: 0.9767\n",
      "Epoch 36/50\n",
      "86/86 [==============================] - 0s 2ms/step - loss: 0.1732 - acc: 0.9767\n",
      "Epoch 37/50\n",
      "86/86 [==============================] - 0s 2ms/step - loss: 0.1579 - acc: 0.9767\n",
      "Epoch 38/50\n",
      "86/86 [==============================] - 0s 2ms/step - loss: 0.1391 - acc: 0.9884\n",
      "Epoch 39/50\n",
      "86/86 [==============================] - 0s 2ms/step - loss: 0.1277 - acc: 0.9767\n",
      "Epoch 40/50\n",
      "86/86 [==============================] - 0s 2ms/step - loss: 0.1329 - acc: 0.9767\n",
      "Epoch 41/50\n",
      "86/86 [==============================] - 0s 2ms/step - loss: 0.1192 - acc: 0.9767\n",
      "Epoch 42/50\n",
      "86/86 [==============================] - 0s 1ms/step - loss: 0.1085 - acc: 0.9767\n",
      "Epoch 43/50\n",
      "86/86 [==============================] - 0s 2ms/step - loss: 0.1029 - acc: 0.9767\n",
      "Epoch 44/50\n",
      "86/86 [==============================] - 0s 2ms/step - loss: 0.0988 - acc: 0.9767\n",
      "Epoch 45/50\n",
      "86/86 [==============================] - 0s 2ms/step - loss: 0.0933 - acc: 0.9767\n",
      "Epoch 46/50\n",
      "86/86 [==============================] - 0s 1ms/step - loss: 0.0880 - acc: 0.9767\n",
      "Epoch 47/50\n",
      "86/86 [==============================] - 0s 2ms/step - loss: 0.0825 - acc: 0.9767\n",
      "Epoch 48/50\n",
      "86/86 [==============================] - 0s 2ms/step - loss: 0.0792 - acc: 0.9767\n",
      "Epoch 49/50\n",
      "86/86 [==============================] - 0s 2ms/step - loss: 0.0750 - acc: 0.9767\n",
      "Epoch 50/50\n",
      "86/86 [==============================] - 0s 1ms/step - loss: 0.0723 - acc: 0.9767\n"
     ]
    },
    {
     "data": {
      "text/plain": [
       "<keras.callbacks.History at 0x7fd0410fa1d0>"
      ]
     },
     "execution_count": 18,
     "metadata": {},
     "output_type": "execute_result"
    }
   ],
   "source": [
    "model.fit(X_train, y_train, epochs=50, batch_size=64)\n"
   ]
  },
  {
   "cell_type": "code",
   "execution_count": 19,
   "metadata": {},
   "outputs": [
    {
     "name": "stdout",
     "output_type": "stream",
     "text": [
      "Model accuracy on the test dataset: 79.31%\n"
     ]
    }
   ],
   "source": [
    "\n",
    "model_scores = model.evaluate(X_test, y_test, verbose=0)\n",
    "\n",
    "# Print out the accuracy of the model on the test set\n",
    "print(\"Model accuracy on the test dataset: {0:.2f}%\".format(model_scores[1]*100))"
   ]
  }
 ],
 "metadata": {
  "kernelspec": {
   "display_name": "Python 3",
   "language": "python",
   "name": "python3"
  },
  "language_info": {
   "codemirror_mode": {
    "name": "ipython",
    "version": 3
   },
   "file_extension": ".py",
   "mimetype": "text/x-python",
   "name": "python",
   "nbconvert_exporter": "python",
   "pygments_lexer": "ipython3",
   "version": "3.6.7"
  }
 },
 "nbformat": 4,
 "nbformat_minor": 2
}
